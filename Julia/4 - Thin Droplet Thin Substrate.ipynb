{
 "cells": [
  {
   "cell_type": "markdown",
   "metadata": {},
   "source": [
    "# Evaporation of a Thin Droplet on a Thin Substrate when the Influence of the Thermal Properties of the System is Strong"
   ]
  },
  {
   "cell_type": "markdown",
   "metadata": {},
   "source": [
    "## Introduction"
   ]
  },
  {
   "cell_type": "code",
   "execution_count": 46,
   "metadata": {},
   "outputs": [
    {
     "name": "stderr",
     "output_type": "stream",
     "text": [
      "\u001b[32m\u001b[1m   Resolving\u001b[22m\u001b[39m package versions...\n",
      "\u001b[32m\u001b[1m  No Changes\u001b[22m\u001b[39m to `C:\\Users\\fghsc\\.julia\\environments\\v1.10\\Project.toml`\n",
      "\u001b[32m\u001b[1m  No Changes\u001b[22m\u001b[39m to `C:\\Users\\fghsc\\.julia\\environments\\v1.10\\Manifest.toml`\n",
      "\u001b[32m\u001b[1m   Resolving\u001b[22m\u001b[39m package versions...\n",
      "\u001b[32m\u001b[1m  No Changes\u001b[22m\u001b[39m to `C:\\Users\\fghsc\\.julia\\environments\\v1.10\\Project.toml`\n",
      "\u001b[32m\u001b[1m  No Changes\u001b[22m\u001b[39m to `C:\\Users\\fghsc\\.julia\\environments\\v1.10\\Manifest.toml`\n",
      "\u001b[32m\u001b[1m   Resolving\u001b[22m\u001b[39m package versions...\n",
      "\u001b[32m\u001b[1m    Updating\u001b[22m\u001b[39m `C:\\Users\\fghsc\\.julia\\environments\\v1.10\\Project.toml`\n",
      "  \u001b[90m[1fd47b50] \u001b[39m\u001b[92m+ QuadGK v2.11.1\u001b[39m\n",
      "\u001b[32m\u001b[1m  No Changes\u001b[22m\u001b[39m to `C:\\Users\\fghsc\\.julia\\environments\\v1.10\\Manifest.toml`\n"
     ]
    }
   ],
   "source": [
    "using Plots\n",
    "import Pkg;\n",
    "Pkg.add(\"PythonPlot\")\n",
    "Pkg.add(\"SpecialFunctions\")\n",
    "Pkg.add(\"QuadGK\")"
   ]
  },
  {
   "cell_type": "markdown",
   "metadata": {},
   "source": [
    "## How to assign variables\n",
    "\n",
    "All we need is a variable name, value, and an equal's sign!<br>\n",
    "Julia will figure out types for us."
   ]
  },
  {
   "cell_type": "code",
   "execution_count": null,
   "metadata": {},
   "outputs": [],
   "source": [
    "using Plots\n",
    "using SpecialFunctions  # For Bessel functions\n",
    "using QuadGK            # For numerical integration\n",
    "\n",
    "# Define the integral of the Bessel function using QuadGK\n",
    "function integral_besselj0(x, y)\n",
    "    integrand(ξ) = (besselj0(ξ*x) * besselj1(ξ) * exp(-ξ*y)) / ξ\n",
    "    result, _ = quadgk(integrand, 0, Inf; rtol=1e-8)  # Perform the integration\n",
    "    return result\n",
    "end\n",
    "\n",
    "# Define f(r, z) which calls the integral_besselj0\n",
    "f(r, z) = integral_besselj0(r, z)\n",
    "\n",
    "# Define ranges for r and z\n",
    "r = range(0, 5, length=100)\n",
    "z = range(0, 3, length=50)\n",
    "\n",
    "c = @. f(r', z)\n",
    "contour(r, z, c)\n",
    "\n"
   ]
  }
 ],
 "metadata": {
  "kernelspec": {
   "display_name": "Julia 1.10.5",
   "language": "julia",
   "name": "julia-1.10"
  },
  "language_info": {
   "file_extension": ".jl",
   "mimetype": "application/julia",
   "name": "julia",
   "version": "1.10.5"
  }
 },
 "nbformat": 4,
 "nbformat_minor": 4
}
