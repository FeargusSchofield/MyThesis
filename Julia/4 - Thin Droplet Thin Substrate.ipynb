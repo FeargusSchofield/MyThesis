{
 "cells": [
  {
   "cell_type": "markdown",
   "metadata": {},
   "source": [
    "# Evaporation of a Thin Droplet on a Thin Substrate when the Influence of the Thermal Properties of the System is Strong"
   ]
  },
  {
   "cell_type": "markdown",
   "metadata": {},
   "source": [
    "## Introduction"
   ]
  },
  {
   "cell_type": "code",
   "execution_count": null,
   "metadata": {},
   "outputs": [],
   "source": [
    "using Plots\n",
    "import Pkg;\n",
    "Pkg.add(\"PythonPlot\")\n",
    "Pkg.add(\"SpecialFunctions\")\n",
    "Pkg.add(\"QuadGK\")\n",
    "Pkg.add(\"PlotlyJS\")"
   ]
  },
  {
   "cell_type": "markdown",
   "metadata": {},
   "source": [
    "## Droplets"
   ]
  },
  {
   "cell_type": "code",
   "execution_count": null,
   "metadata": {},
   "outputs": [],
   "source": [
    "using Plots\n",
    "using SpecialFunctions  # For Bessel functions\n",
    "using QuadGK            # For numerical integration\n",
    "\n",
    "# Define the integral of the Bessel function using QuadGK\n",
    "function integral(x, y)\n",
    "    integrand(ξ) = (besselj0(ξ*x) * besselj1(ξ) * exp(-ξ*y)) / ξ\n",
    "    result, _ = quadgk(integrand, 0, 10000; rtol=1e-8)  # Perform the integration\n",
    "    return result\n",
    "end\n",
    "\n",
    "# Define f(r, z) which calls the integral\n",
    "f(r, z) = integral(r, z)\n",
    "\n",
    "# Define ranges for r and z\n",
    "r = range(0, 5, length=100)\n",
    "z = range(0, 3, length=50)\n",
    "\n",
    "c = @. f(r', z)\n",
    "contour(r, z, c)\n",
    "\n"
   ]
  },
  {
   "cell_type": "code",
   "execution_count": null,
   "metadata": {},
   "outputs": [],
   "source": [
    "# Define the integral of the Bessel function using QuadGK\n",
    "function integral(x, y)\n",
    "    result= 2/π * asin(2/(((1+x)^2+y^2)^(1/2)+((1-x)^2+y^2)^(1/2)))  # Perform the integration\n",
    "    return result\n",
    "end\n",
    "\n",
    "# Define f(r, z) which calls the integral\n",
    "f(r, z) = integral(r, z)\n",
    "\n",
    "# Define ranges for r and z\n",
    "r = range(0, 5, length=100)\n",
    "z = range(0, 3, length=50)\n",
    "\n",
    "c = @. f(r', z)\n",
    "contour(r, z, c)"
   ]
  },
  {
   "cell_type": "code",
   "execution_count": null,
   "metadata": {},
   "outputs": [],
   "source": [
    "using PlotlyJS\n",
    "\n",
    "# Create sample data\n",
    "x = range(-10, 10, length=100)\n",
    "y = range(0, 10, length=50)\n",
    "z = [2/π * asin(2/(((1+x[i])^2+y[j]^2)^(1/2)+((1-x[i])^2+y[j]^2)^(1/2))) for i in 1:100, j in 1:50]\n",
    "\n",
    "# Create 3D surface plot\n",
    "plot = Plot(\n",
    "    PlotlyJS.surface(x=x, y=y, z=z),\n",
    "    Layout(title=\"3D Surface Plot\",\n",
    "           scene_camera_eye=(x=0, y=0, z=1))\n",
    ")\n",
    "\n",
    "# Display plot\n",
    "display(plot)"
   ]
  }
 ],
 "metadata": {
  "kernelspec": {
   "display_name": "Julia 1.10.5",
   "language": "julia",
   "name": "julia-1.10"
  },
  "language_info": {
   "file_extension": ".jl",
   "mimetype": "application/julia",
   "name": "julia",
   "version": "1.10.5"
  }
 },
 "nbformat": 4,
 "nbformat_minor": 4
}
